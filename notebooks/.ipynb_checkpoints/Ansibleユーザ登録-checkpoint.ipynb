{
 "cells": [
  {
   "cell_type": "markdown",
   "metadata": {
    "lc_cell_meme": {
     "current": "8b2dde08-24f7-11e8-93ce-0242ac110002",
     "next": "8b962e4e-24ee-11e8-93ce-0242ac110002",
     "previous": null
    }
   },
   "source": [
    "ansibleアカウントの追加"
   ]
  },
  {
   "cell_type": "code",
   "execution_count": 5,
   "metadata": {
    "deletable": false,
    "editable": false,
    "lc_cell_meme": {
     "current": "8b962e4e-24ee-11e8-93ce-0242ac110002",
     "history": [
      {
       "current": "8b962e4e-24ee-11e8-93ce-0242ac110002",
       "next": "8b962f7a-24ee-11e8-93ce-0242ac110002",
       "previous": null
      },
      {
       "current": "8b962e4e-24ee-11e8-93ce-0242ac110002",
       "next": "bc74cf76-24f2-11e8-93ce-0242ac110002",
       "previous": null
      },
      {
       "current": "8b962e4e-24ee-11e8-93ce-0242ac110002",
       "next": "8b962f7a-24ee-11e8-93ce-0242ac110002",
       "previous": null
      },
      {
       "current": "8b962e4e-24ee-11e8-93ce-0242ac110002",
       "next": "8b962f7a-24ee-11e8-93ce-0242ac110002",
       "previous": "8b2dde08-24f7-11e8-93ce-0242ac110002"
      }
     ],
     "next": "c41f1df8-24f7-11e8-93ce-0242ac110002",
     "previous": "8b2dde08-24f7-11e8-93ce-0242ac110002"
    },
    "run_through_control": {
     "frozen": true
    },
    "scrolled": false
   },
   "outputs": [
    {
     "name": "stdout",
     "output_type": "stream",
     "text": [
      "\n",
      "PLAY [all] *********************************************************************\n",
      "\n",
      "TASK [Gathering Facts] *********************************************************\n",
      "\u001b[0;32mok: [dev01]\u001b[0m\n",
      "\u001b[0;32mok: [dev02]\u001b[0m\n",
      "\u001b[0;32mok: [dev03]\u001b[0m\n",
      "\n",
      "TASK [add ansible user] ********************************************************\n",
      "\u001b[0;33mchanged: [dev01]\u001b[0m\n",
      "\u001b[0;33mchanged: [dev02]\u001b[0m\n",
      "\u001b[0;33mchanged: [dev03]\u001b[0m\n",
      "\n",
      "TASK [add public key] **********************************************************\n",
      "\u001b[0;33mchanged: [dev03]\u001b[0m\n",
      "\u001b[0;33mchanged: [dev01]\u001b[0m\n",
      "\u001b[0;33mchanged: [dev02]\u001b[0m\n",
      "\n",
      "TASK [add sudo] ****************************************************************\n",
      "\u001b[0;33mchanged: [dev02]\u001b[0m\n",
      "\u001b[0;33mchanged: [dev03]\u001b[0m\n",
      "\u001b[0;33mchanged: [dev01]\u001b[0m\n",
      "\n",
      "PLAY RECAP *********************************************************************\n",
      "\u001b[0;33mdev01\u001b[0m                      : \u001b[0;32mok=4   \u001b[0m \u001b[0;33mchanged=3   \u001b[0m unreachable=0    failed=0   \n",
      "\u001b[0;33mdev02\u001b[0m                      : \u001b[0;32mok=4   \u001b[0m \u001b[0;33mchanged=3   \u001b[0m unreachable=0    failed=0   \n",
      "\u001b[0;33mdev03\u001b[0m                      : \u001b[0;32mok=4   \u001b[0m \u001b[0;33mchanged=3   \u001b[0m unreachable=0    failed=0   \n",
      "\n"
     ]
    }
   ],
   "source": [
    "!ansible-playbook ansible/add_ansible_user.yml -e 'ansible_user=root ansible_ssh_pass=xxxxxxx'"
   ]
  },
  {
   "cell_type": "markdown",
   "metadata": {
    "lc_cell_meme": {
     "current": "c41f1df8-24f7-11e8-93ce-0242ac110002",
     "next": "8b962f7a-24ee-11e8-93ce-0242ac110002",
     "previous": "8b962e4e-24ee-11e8-93ce-0242ac110002"
    }
   },
   "source": [
    "ansibleアカウントの追加確認"
   ]
  },
  {
   "cell_type": "code",
   "execution_count": 6,
   "metadata": {
    "deletable": false,
    "editable": false,
    "lc_cell_meme": {
     "current": "8b962f7a-24ee-11e8-93ce-0242ac110002",
     "history": [
      {
       "current": "8b962f7a-24ee-11e8-93ce-0242ac110002",
       "next": null,
       "previous": "8b962e4e-24ee-11e8-93ce-0242ac110002"
      },
      {
       "current": "8b962f7a-24ee-11e8-93ce-0242ac110002",
       "next": "0f4ef7f0-24f1-11e8-93ce-0242ac110002",
       "previous": "8b962e4e-24ee-11e8-93ce-0242ac110002"
      },
      {
       "current": "8b962f7a-24ee-11e8-93ce-0242ac110002",
       "next": "0f4ef7f0-24f1-11e8-93ce-0242ac110002",
       "previous": "bc74cf76-24f2-11e8-93ce-0242ac110002"
      },
      {
       "current": "8b962f7a-24ee-11e8-93ce-0242ac110002",
       "next": "0f4ef7f0-24f1-11e8-93ce-0242ac110002",
       "previous": "8b962e4e-24ee-11e8-93ce-0242ac110002"
      }
     ],
     "next": "c41f1fc4-24f7-11e8-93ce-0242ac110002",
     "previous": "c41f1df8-24f7-11e8-93ce-0242ac110002"
    },
    "run_through_control": {
     "frozen": true,
     "read_only": false
    },
    "scrolled": false
   },
   "outputs": [
    {
     "name": "stdout",
     "output_type": "stream",
     "text": [
      "\u001b[0;32mdev02 | SUCCESS | rc=0 >>\u001b[0m\r\n",
      "\u001b[0;32mtotal 12\u001b[0m\r\n",
      "\u001b[0;32mdrwx------. 4 ansible ansible  90 Mar 11 14:55 .\u001b[0m\r\n",
      "\u001b[0;32mdrwxr-xr-x. 4 root    root     35 Mar 11 14:52 ..\u001b[0m\r\n",
      "\u001b[0;32mdrwx------. 3 ansible ansible  17 Mar 11 14:55 .ansible\u001b[0m\r\n",
      "\u001b[0;32m-rw-r--r--. 1 ansible ansible  18 Sep  7  2017 .bash_logout\u001b[0m\r\n",
      "\u001b[0;32m-rw-r--r--. 1 ansible ansible 193 Sep  7  2017 .bash_profile\u001b[0m\r\n",
      "\u001b[0;32m-rw-r--r--. 1 ansible ansible 231 Sep  7  2017 .bashrc\u001b[0m\r\n",
      "\u001b[0;32mdrwx------. 2 ansible ansible  29 Mar 11 14:52 .ssh\u001b[0m\r\n",
      "\u001b[0;32m\u001b[0m\r\n",
      "\u001b[0;32mdev03 | SUCCESS | rc=0 >>\u001b[0m\r\n",
      "\u001b[0;32mtotal 12\u001b[0m\r\n",
      "\u001b[0;32mdrwx------. 4 ansible ansible  90 Mar 11 14:55 .\u001b[0m\r\n",
      "\u001b[0;32mdrwxr-xr-x. 4 root    root     35 Mar 11 14:52 ..\u001b[0m\r\n",
      "\u001b[0;32mdrwx------. 3 ansible ansible  17 Mar 11 14:55 .ansible\u001b[0m\r\n",
      "\u001b[0;32m-rw-r--r--. 1 ansible ansible  18 Sep  7  2017 .bash_logout\u001b[0m\r\n",
      "\u001b[0;32m-rw-r--r--. 1 ansible ansible 193 Sep  7  2017 .bash_profile\u001b[0m\r\n",
      "\u001b[0;32m-rw-r--r--. 1 ansible ansible 231 Sep  7  2017 .bashrc\u001b[0m\r\n",
      "\u001b[0;32mdrwx------. 2 ansible ansible  29 Mar 11 14:52 .ssh\u001b[0m\r\n",
      "\u001b[0;32m\u001b[0m\r\n",
      "\u001b[0;32mdev01 | SUCCESS | rc=0 >>\u001b[0m\r\n",
      "\u001b[0;32mtotal 12\u001b[0m\r\n",
      "\u001b[0;32mdrwx------. 4 ansible ansible  90 Mar 11 14:55 .\u001b[0m\r\n",
      "\u001b[0;32mdrwxr-xr-x. 4 root    root     35 Mar 11 14:52 ..\u001b[0m\r\n",
      "\u001b[0;32mdrwx------. 3 ansible ansible  17 Mar 11 14:55 .ansible\u001b[0m\r\n",
      "\u001b[0;32m-rw-r--r--. 1 ansible ansible  18 Sep  7  2017 .bash_logout\u001b[0m\r\n",
      "\u001b[0;32m-rw-r--r--. 1 ansible ansible 193 Sep  7  2017 .bash_profile\u001b[0m\r\n",
      "\u001b[0;32m-rw-r--r--. 1 ansible ansible 231 Sep  7  2017 .bashrc\u001b[0m\r\n",
      "\u001b[0;32mdrwx------. 2 ansible ansible  29 Mar 11 14:52 .ssh\u001b[0m\r\n",
      "\u001b[0;32m\u001b[0m\r\n"
     ]
    }
   ],
   "source": [
    "!ansible  -b -m shell -a 'ls -la ' all "
   ]
  },
  {
   "cell_type": "markdown",
   "metadata": {
    "lc_cell_meme": {
     "current": "c41f1fc4-24f7-11e8-93ce-0242ac110002",
     "next": "0f4ef7f0-24f1-11e8-93ce-0242ac110002",
     "previous": "8b962f7a-24ee-11e8-93ce-0242ac110002"
    }
   },
   "source": [
    "sshdのログイン設定変更"
   ]
  },
  {
   "cell_type": "code",
   "execution_count": 11,
   "metadata": {
    "deletable": false,
    "editable": false,
    "lc_cell_meme": {
     "current": "0f4ef7f0-24f1-11e8-93ce-0242ac110002",
     "history": [
      {
       "current": "0f4ef7f0-24f1-11e8-93ce-0242ac110002",
       "next": null,
       "previous": "8b962f7a-24ee-11e8-93ce-0242ac110002"
      },
      {
       "current": "0f4ef7f0-24f1-11e8-93ce-0242ac110002",
       "next": "da8e3b40-24f3-11e8-93ce-0242ac110002",
       "previous": "8b962f7a-24ee-11e8-93ce-0242ac110002"
      }
     ],
     "next": "da8e3b40-24f3-11e8-93ce-0242ac110002",
     "previous": "c41f1fc4-24f7-11e8-93ce-0242ac110002"
    },
    "run_through_control": {
     "frozen": true,
     "read_only": false
    },
    "scrolled": false
   },
   "outputs": [
    {
     "name": "stdout",
     "output_type": "stream",
     "text": [
      "\n",
      "PLAY [all] *********************************************************************\n",
      "\n",
      "TASK [Gathering Facts] *********************************************************\n",
      "\u001b[0;32mok: [dev03]\u001b[0m\n",
      "\u001b[0;32mok: [dev01]\u001b[0m\n",
      "\u001b[0;32mok: [dev02]\u001b[0m\n",
      "\n",
      "TASK [disable SELinux] *********************************************************\n",
      "\u001b[1;35m [WARNING]: SELinux state temporarily changed from 'enforcing' to 'permissive'.\u001b[0m\n",
      "\u001b[1;35mState change will take effect next reboot.\u001b[0m\n",
      "\u001b[1;35m\u001b[0m\n",
      "\u001b[0;33mchanged: [dev03]\u001b[0m\n",
      "\u001b[0;33mchanged: [dev02]\u001b[0m\n",
      "\u001b[0;33mchanged: [dev01]\u001b[0m\n",
      "\n",
      "TASK [disable password ssh login] **********************************************\n",
      "\u001b[0;33mchanged: [dev01]\u001b[0m\n",
      "\u001b[0;33mchanged: [dev02]\u001b[0m\n",
      "\u001b[0;33mchanged: [dev03]\u001b[0m\n",
      "\n",
      "TASK [disable ChallengeResponseAuthentication] *********************************\n",
      "\u001b[0;32mok: [dev01]\u001b[0m\n",
      "\u001b[0;32mok: [dev03]\u001b[0m\n",
      "\u001b[0;32mok: [dev02]\u001b[0m\n",
      "\n",
      "TASK [disable root login] ******************************************************\n",
      "\u001b[0;33mchanged: [dev03]\u001b[0m\n",
      "\u001b[0;33mchanged: [dev02]\u001b[0m\n",
      "\u001b[0;33mchanged: [dev01]\u001b[0m\n",
      "\n",
      "TASK [restart sshd] ************************************************************\n",
      "\u001b[0;33mchanged: [dev03]\u001b[0m\n",
      "\u001b[0;33mchanged: [dev01]\u001b[0m\n",
      "\u001b[0;33mchanged: [dev02]\u001b[0m\n",
      "\n",
      "PLAY RECAP *********************************************************************\n",
      "\u001b[0;33mdev01\u001b[0m                      : \u001b[0;32mok=6   \u001b[0m \u001b[0;33mchanged=4   \u001b[0m unreachable=0    failed=0   \n",
      "\u001b[0;33mdev02\u001b[0m                      : \u001b[0;32mok=6   \u001b[0m \u001b[0;33mchanged=4   \u001b[0m unreachable=0    failed=0   \n",
      "\u001b[0;33mdev03\u001b[0m                      : \u001b[0;32mok=6   \u001b[0m \u001b[0;33mchanged=4   \u001b[0m unreachable=0    failed=0   \n",
      "\n"
     ]
    }
   ],
   "source": [
    "!ansible-playbook ansible/sshd_setup.yml"
   ]
  },
  {
   "cell_type": "code",
   "execution_count": null,
   "metadata": {
    "lc_cell_meme": {
     "current": "da8e3b40-24f3-11e8-93ce-0242ac110002",
     "next": null,
     "previous": "0f4ef7f0-24f1-11e8-93ce-0242ac110002"
    }
   },
   "outputs": [],
   "source": []
  }
 ],
 "metadata": {
  "kernelspec": {
   "display_name": "Python 2",
   "language": "python",
   "name": "python2"
  },
  "language_info": {
   "codemirror_mode": {
    "name": "ipython",
    "version": 2
   },
   "file_extension": ".py",
   "mimetype": "text/x-python",
   "name": "python",
   "nbconvert_exporter": "python",
   "pygments_lexer": "ipython2",
   "version": "2.7.9"
  },
  "lc_notebook_meme": {
   "current": "8b962c64-24ee-11e8-93ce-0242ac110002",
   "lc_server_signature": {
    "current": {
     "notebook_dir": "/notebooks",
     "notebook_path": "/",
     "server_url": "http://10.0.0.1:8888/",
     "signature_id": "6884123c-24e8-11e8-93ce-0242ac110002"
    },
    "history": []
   }
  },
  "toc": {
   "base_numbering": 1,
   "nav_menu": {},
   "number_sections": true,
   "sideBar": true,
   "skip_h1_title": false,
   "title_cell": "Table of Contents",
   "title_sidebar": "Contents",
   "toc_cell": false,
   "toc_position": {},
   "toc_section_display": true,
   "toc_window_display": false
  }
 },
 "nbformat": 4,
 "nbformat_minor": 2
}
