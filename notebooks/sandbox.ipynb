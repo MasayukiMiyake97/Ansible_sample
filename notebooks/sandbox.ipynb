{
 "cells": [
  {
   "cell_type": "markdown",
   "metadata": {
    "lc_cell_meme": {
     "current": "5b764c16-24f9-11e8-93ce-0242ac110002",
     "next": "befd57d4-24ea-11e8-93ce-0242ac110002",
     "previous": null
    }
   },
   "source": [
    "# ansible実行確認用SandBox"
   ]
  },
  {
   "cell_type": "code",
   "execution_count": 3,
   "metadata": {
    "deletable": false,
    "editable": false,
    "lc_cell_meme": {
     "current": "befd57d4-24ea-11e8-93ce-0242ac110002",
     "history": [
      {
       "current": "befd57d4-24ea-11e8-93ce-0242ac110002",
       "next": "befd590a-24ea-11e8-93ce-0242ac110002",
       "previous": null
      }
     ],
     "next": "befd590a-24ea-11e8-93ce-0242ac110002",
     "previous": "5b764c16-24f9-11e8-93ce-0242ac110002"
    },
    "run_through_control": {
     "frozen": true
    }
   },
   "outputs": [
    {
     "name": "stdout",
     "output_type": "stream",
     "text": [
      "\u001b[0;32mdev02 | SUCCESS | rc=0 >>\u001b[0m\n",
      "\u001b[0;32mtotal 28\u001b[0m\n",
      "\u001b[0;32mdr-xr-x---.  3 root root  151 Feb 25 14:17 .\u001b[0m\n",
      "\u001b[0;32mdr-xr-xr-x. 17 root root  224 Jan 27 23:07 ..\u001b[0m\n",
      "\u001b[0;32m-rw-------.  1 root root 1458 Jan 27 23:07 anaconda-ks.cfg\u001b[0m\n",
      "\u001b[0;32mdrwx------.  3 root root   17 Feb 25 14:17 .ansible\u001b[0m\n",
      "\u001b[0;32m-rw-------.  1 root root  238 Mar 11 01:04 .bash_history\u001b[0m\n",
      "\u001b[0;32m-rw-r--r--.  1 root root   18 Dec 29  2013 .bash_logout\u001b[0m\n",
      "\u001b[0;32m-rw-r--r--.  1 root root  176 Dec 29  2013 .bash_profile\u001b[0m\n",
      "\u001b[0;32m-rw-r--r--.  1 root root  176 Dec 29  2013 .bashrc\u001b[0m\n",
      "\u001b[0;32m-rw-r--r--.  1 root root  100 Dec 29  2013 .cshrc\u001b[0m\n",
      "\u001b[0;32m-rw-r--r--.  1 root root  129 Dec 29  2013 .tcshrc\u001b[0m\n",
      "\u001b[0;32m\u001b[0m\n",
      "\u001b[0;32mdev03 | SUCCESS | rc=0 >>\u001b[0m\n",
      "\u001b[0;32mtotal 28\u001b[0m\n",
      "\u001b[0;32mdr-xr-x---.  3 root root  151 Feb 25 14:17 .\u001b[0m\n",
      "\u001b[0;32mdr-xr-xr-x. 17 root root  224 Jan 27 23:07 ..\u001b[0m\n",
      "\u001b[0;32m-rw-------.  1 root root 1458 Jan 27 23:07 anaconda-ks.cfg\u001b[0m\n",
      "\u001b[0;32mdrwx------.  3 root root   17 Feb 25 14:17 .ansible\u001b[0m\n",
      "\u001b[0;32m-rw-------.  1 root root  188 Mar 11 01:04 .bash_history\u001b[0m\n",
      "\u001b[0;32m-rw-r--r--.  1 root root   18 Dec 29  2013 .bash_logout\u001b[0m\n",
      "\u001b[0;32m-rw-r--r--.  1 root root  176 Dec 29  2013 .bash_profile\u001b[0m\n",
      "\u001b[0;32m-rw-r--r--.  1 root root  176 Dec 29  2013 .bashrc\u001b[0m\n",
      "\u001b[0;32m-rw-r--r--.  1 root root  100 Dec 29  2013 .cshrc\u001b[0m\n",
      "\u001b[0;32m-rw-r--r--.  1 root root  129 Dec 29  2013 .tcshrc\u001b[0m\n",
      "\u001b[0;32m\u001b[0m\n",
      "\u001b[0;32mdev01 | SUCCESS | rc=0 >>\u001b[0m\n",
      "\u001b[0;32mtotal 28\u001b[0m\n",
      "\u001b[0;32mdr-xr-x---.  4 root root  163 Feb 25 14:17 .\u001b[0m\n",
      "\u001b[0;32mdr-xr-xr-x. 17 root root  224 Jan 27 23:07 ..\u001b[0m\n",
      "\u001b[0;32m-rw-------.  1 root root 1458 Jan 27 23:07 anaconda-ks.cfg\u001b[0m\n",
      "\u001b[0;32mdrwx------.  3 root root   17 Feb 25 14:17 .ansible\u001b[0m\n",
      "\u001b[0;32m-rw-------.  1 root root  375 Mar 11 01:04 .bash_history\u001b[0m\n",
      "\u001b[0;32m-rw-r--r--.  1 root root   18 Dec 29  2013 .bash_logout\u001b[0m\n",
      "\u001b[0;32m-rw-r--r--.  1 root root  176 Dec 29  2013 .bash_profile\u001b[0m\n",
      "\u001b[0;32m-rw-r--r--.  1 root root  176 Dec 29  2013 .bashrc\u001b[0m\n",
      "\u001b[0;32m-rw-r--r--.  1 root root  100 Dec 29  2013 .cshrc\u001b[0m\n",
      "\u001b[0;32mdrwxr-----.  3 root root   19 Jan 29 22:20 .pki\u001b[0m\n",
      "\u001b[0;32m-rw-r--r--.  1 root root  129 Dec 29  2013 .tcshrc\u001b[0m\n",
      "\u001b[0;32m\u001b[0m\n"
     ]
    }
   ],
   "source": [
    "!ansible -m shell -a 'ls -la '  -e 'ansible_user=root ansible_ssh_pass=xxxxxx' all "
   ]
  },
  {
   "cell_type": "code",
   "execution_count": 2,
   "metadata": {
    "deletable": false,
    "editable": false,
    "lc_cell_meme": {
     "current": "befd590a-24ea-11e8-93ce-0242ac110002",
     "history": [
      {
       "current": "befd590a-24ea-11e8-93ce-0242ac110002",
       "next": null,
       "previous": "befd57d4-24ea-11e8-93ce-0242ac110002"
      }
     ],
     "next": "b3e38d1c-24ec-11e8-93ce-0242ac110002",
     "previous": "befd57d4-24ea-11e8-93ce-0242ac110002"
    },
    "run_through_control": {
     "frozen": true,
     "read_only": false
    }
   },
   "outputs": [
    {
     "name": "stdout",
     "output_type": "stream",
     "text": [
      "[defaults]\r\n",
      "host_key_checking = False\r\n",
      "forks = 3\r\n",
      "record_host_keys = False\r\n",
      "remote_user = ansible\r\n",
      "\r\n",
      "private_key_file = /home/bit_kun/.ssh/ansible_id_rsa\r\n",
      "ansible_user = ansible\r\n",
      "inventory = /notebooks/ansible/inventory/inventory.ini\r\n"
     ]
    }
   ],
   "source": [
    "!cat /etc/ansible/ansible.cfg"
   ]
  },
  {
   "cell_type": "code",
   "execution_count": 4,
   "metadata": {
    "deletable": false,
    "editable": false,
    "lc_cell_meme": {
     "current": "b3e38d1c-24ec-11e8-93ce-0242ac110002",
     "history": [
      {
       "current": "b3e38d1c-24ec-11e8-93ce-0242ac110002",
       "next": null,
       "previous": "befd590a-24ea-11e8-93ce-0242ac110002"
      }
     ],
     "next": "12a73e58-24f1-11e8-93ce-0242ac110002",
     "previous": "befd590a-24ea-11e8-93ce-0242ac110002"
    },
    "run_through_control": {
     "frozen": true,
     "read_only": false
    }
   },
   "outputs": [
    {
     "name": "stdout",
     "output_type": "stream",
     "text": [
      "\u001b[0;32mdev01 | SUCCESS | rc=0 >>\u001b[0m\r\n",
      "\u001b[0;32mtotal 12\u001b[0m\r\n",
      "\u001b[0;32mdrwx------. 4 ansible ansible  90 Mar 11 14:55 .\u001b[0m\r\n",
      "\u001b[0;32mdrwxr-xr-x. 4 root    root     35 Mar 11 14:52 ..\u001b[0m\r\n",
      "\u001b[0;32mdrwx------. 3 ansible ansible  17 Mar 11 14:55 .ansible\u001b[0m\r\n",
      "\u001b[0;32m-rw-r--r--. 1 ansible ansible  18 Sep  7  2017 .bash_logout\u001b[0m\r\n",
      "\u001b[0;32m-rw-r--r--. 1 ansible ansible 193 Sep  7  2017 .bash_profile\u001b[0m\r\n",
      "\u001b[0;32m-rw-r--r--. 1 ansible ansible 231 Sep  7  2017 .bashrc\u001b[0m\r\n",
      "\u001b[0;32mdrwx------. 2 ansible ansible  29 Mar 11 14:52 .ssh\u001b[0m\r\n",
      "\u001b[0;32m\u001b[0m\r\n",
      "\u001b[0;32mdev02 | SUCCESS | rc=0 >>\u001b[0m\r\n",
      "\u001b[0;32mtotal 12\u001b[0m\r\n",
      "\u001b[0;32mdrwx------. 4 ansible ansible  90 Mar 11 14:55 .\u001b[0m\r\n",
      "\u001b[0;32mdrwxr-xr-x. 4 root    root     35 Mar 11 14:52 ..\u001b[0m\r\n",
      "\u001b[0;32mdrwx------. 3 ansible ansible  17 Mar 11 14:55 .ansible\u001b[0m\r\n",
      "\u001b[0;32m-rw-r--r--. 1 ansible ansible  18 Sep  7  2017 .bash_logout\u001b[0m\r\n",
      "\u001b[0;32m-rw-r--r--. 1 ansible ansible 193 Sep  7  2017 .bash_profile\u001b[0m\r\n",
      "\u001b[0;32m-rw-r--r--. 1 ansible ansible 231 Sep  7  2017 .bashrc\u001b[0m\r\n",
      "\u001b[0;32mdrwx------. 2 ansible ansible  29 Mar 11 14:52 .ssh\u001b[0m\r\n",
      "\u001b[0;32m\u001b[0m\r\n",
      "\u001b[0;32mdev03 | SUCCESS | rc=0 >>\u001b[0m\r\n",
      "\u001b[0;32mtotal 12\u001b[0m\r\n",
      "\u001b[0;32mdrwx------. 4 ansible ansible  90 Mar 11 14:55 .\u001b[0m\r\n",
      "\u001b[0;32mdrwxr-xr-x. 4 root    root     35 Mar 11 14:52 ..\u001b[0m\r\n",
      "\u001b[0;32mdrwx------. 3 ansible ansible  17 Mar 11 14:55 .ansible\u001b[0m\r\n",
      "\u001b[0;32m-rw-r--r--. 1 ansible ansible  18 Sep  7  2017 .bash_logout\u001b[0m\r\n",
      "\u001b[0;32m-rw-r--r--. 1 ansible ansible 193 Sep  7  2017 .bash_profile\u001b[0m\r\n",
      "\u001b[0;32m-rw-r--r--. 1 ansible ansible 231 Sep  7  2017 .bashrc\u001b[0m\r\n",
      "\u001b[0;32mdrwx------. 2 ansible ansible  29 Mar 11 14:52 .ssh\u001b[0m\r\n",
      "\u001b[0;32m\u001b[0m\r\n"
     ]
    }
   ],
   "source": [
    "!ansible  -b -m shell -a 'ls -la ' all "
   ]
  },
  {
   "cell_type": "code",
   "execution_count": null,
   "metadata": {
    "lc_cell_meme": {
     "current": "12a73e58-24f1-11e8-93ce-0242ac110002",
     "next": null,
     "previous": "b3e38d1c-24ec-11e8-93ce-0242ac110002"
    }
   },
   "outputs": [],
   "source": []
  }
 ],
 "metadata": {
  "kernelspec": {
   "display_name": "Python 2",
   "language": "python",
   "name": "python2"
  },
  "language_info": {
   "codemirror_mode": {
    "name": "ipython",
    "version": 2
   },
   "file_extension": ".py",
   "mimetype": "text/x-python",
   "name": "python",
   "nbconvert_exporter": "python",
   "pygments_lexer": "ipython2",
   "version": "2.7.9"
  },
  "lc_notebook_meme": {
   "current": "befd5450-24ea-11e8-93ce-0242ac110002",
   "lc_server_signature": {
    "current": {
     "notebook_dir": "/notebooks",
     "notebook_path": "/",
     "server_url": "http://10.0.0.1:8888/",
     "signature_id": "6884123c-24e8-11e8-93ce-0242ac110002"
    },
    "history": [
     {
      "notebook_dir": "/notebooks",
      "notebook_path": "/ansible",
      "server_url": "http://10.0.0.1:8888/",
      "signature_id": "6884123c-24e8-11e8-93ce-0242ac110002"
     }
    ]
   }
  },
  "toc": {
   "base_numbering": 1,
   "nav_menu": {},
   "number_sections": true,
   "sideBar": true,
   "skip_h1_title": false,
   "title_cell": "Table of Contents",
   "title_sidebar": "Contents",
   "toc_cell": false,
   "toc_position": {},
   "toc_section_display": true,
   "toc_window_display": false
  }
 },
 "nbformat": 4,
 "nbformat_minor": 2
}
